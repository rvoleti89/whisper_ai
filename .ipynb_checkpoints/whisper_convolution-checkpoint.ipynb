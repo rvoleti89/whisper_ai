{
 "cells": [
  {
   "cell_type": "markdown",
   "id": "821ddc69-6ff3-4476-affe-10891d4405bc",
   "metadata": {},
   "source": [
    "## My Convolution Implementation\n",
    "\n",
    "For a discrete time signal $x[n]$ with a discrete time filter $h[n]$, the convolution between the two is defined as follows:\n",
    "\n",
    "\\begin{equation}\n",
    "    (x \\ast h)[n] = \\sum_{k = - \\infty}^{ \\infty} x[k] h[n-k]\n",
    "\\end{equation}\n",
    "\n",
    "\n",
    "Since neither our signal or the filter are infinite in time, this sum is over a finite number of values.\n",
    "\n",
    "If we were to do this as defined, we would end up with a resulting signal of length:\n",
    "\n",
    "$\\mathrm{len}(x[n]) + \\mathrm{len}(y[n]) - 1$. \n",
    "\n",
    "Therefore, we also need to make sure we truncate our output such that it is the same length as the max of the lengths of the filter or signal. Based on the desired length, we can center slice/crop the resulting vector to get the desired output length."
   ]
  },
  {
   "cell_type": "markdown",
   "id": "f57a910a-b92c-4150-ace1-fae66171e38a",
   "metadata": {},
   "source": [
    "### Load filter\n",
    "\n",
    "We start by loading the filter from the downloaded text file as we did in the main function.\n",
    "\n"
   ]
  },
  {
   "cell_type": "code",
   "execution_count": 1,
   "id": "4c089fbe-dd90-4ddb-ae3b-728c8a6d75f7",
   "metadata": {},
   "outputs": [
    {
     "ename": "FileNotFoundError",
     "evalue": "[Errno 2] No such file or directory: 'kaiser_filter_32.txt'",
     "output_type": "error",
     "traceback": [
      "\u001b[0;31m---------------------------------------------------------------------------\u001b[0m",
      "\u001b[0;31mFileNotFoundError\u001b[0m                         Traceback (most recent call last)",
      "Input \u001b[0;32mIn [1]\u001b[0m, in \u001b[0;36m<cell line: 1>\u001b[0;34m()\u001b[0m\n\u001b[0;32m----> 1\u001b[0m \u001b[38;5;28;01mwith\u001b[39;00m \u001b[38;5;28;43mopen\u001b[39;49m\u001b[43m(\u001b[49m\u001b[38;5;124;43m'\u001b[39;49m\u001b[38;5;124;43mkaiser_filter_32.txt\u001b[39;49m\u001b[38;5;124;43m'\u001b[39;49m\u001b[43m)\u001b[49m \u001b[38;5;28;01mas\u001b[39;00m f:\n\u001b[1;32m      2\u001b[0m     filter_params \u001b[38;5;241m=\u001b[39m f\u001b[38;5;241m.\u001b[39mread()\n\u001b[1;32m      4\u001b[0m h \u001b[38;5;241m=\u001b[39m filter_params[\u001b[38;5;241m1\u001b[39m:\u001b[38;5;241m-\u001b[39m\u001b[38;5;241m2\u001b[39m]\n",
      "\u001b[0;31mFileNotFoundError\u001b[0m: [Errno 2] No such file or directory: 'kaiser_filter_32.txt'"
     ]
    }
   ],
   "source": [
    "with open('kaiser_filter_32.txt') as f:\n",
    "    filter_params = f.read()\n",
    "    \n",
    "h = filter_params[1:-2]\n",
    "h = np.fromstring(h, dtype=float, sep='')\n",
    "\n",
    "h"
   ]
  },
  {
   "cell_type": "code",
   "execution_count": null,
   "id": "94646929-a6d3-4637-b66a-8064b3982b07",
   "metadata": {},
   "outputs": [],
   "source": []
  }
 ],
 "metadata": {
  "kernelspec": {
   "display_name": "Python [conda env:whisper]",
   "language": "python",
   "name": "conda-env-whisper-py"
  },
  "language_info": {
   "codemirror_mode": {
    "name": "ipython",
    "version": 3
   },
   "file_extension": ".py",
   "mimetype": "text/x-python",
   "name": "python",
   "nbconvert_exporter": "python",
   "pygments_lexer": "ipython3",
   "version": "3.8.13"
  }
 },
 "nbformat": 4,
 "nbformat_minor": 5
}
